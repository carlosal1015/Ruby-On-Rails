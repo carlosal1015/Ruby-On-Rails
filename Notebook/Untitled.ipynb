{
 "cells": [
  {
   "cell_type": "markdown",
   "metadata": {},
   "source": [
    "Ruby on Rails es un *framework* de desarrollo web escrito en el lenguaje de programación Ruby. Desde su estreno en el 2004, Ruby on Rails rápidamente llegó a ser uno de las más poderosas y herramientas populares para la construcción de aplicaciones web dinámicas. Rails es empleado por compañías tan variadas como Airbnb, Basecamp, Disney, GitHub, Hulu, Kickstarter, Shopify, Twitter y las Páginas Amarillas.\n",
    "\n",
    "# ¿Qué hace a Rails tan grande?\n",
    "\n",
    "Primero que todo, Ruby on Rails es 100% código abierto, disponible bajo la generosa licencia MIT, y como resultado tampoco cuesta nada descargar o usar. También se debe gran parte de su éxito al diseño elegante y compacto; Al explotar la maleabilidad del lenguaje Ruby subyacente, Rails crea efectivamente un lenguaje específico de dominio para escribir aplicaciones web.\n",
    "Como resultado, varias tareas comunes de programación web, tales como la generación de HTML, hacer modelos de datos y enrutamiento de URLS, son fáciles con Rails, y el código de aplicación resultante es conciso y legible."
   ]
  }
 ],
 "metadata": {
  "kernelspec": {
   "display_name": "Ruby 2.5.3",
   "language": "ruby",
   "name": "ruby"
  },
  "language_info": {
   "file_extension": ".rb",
   "mimetype": "application/x-ruby",
   "name": "ruby",
   "version": "2.5.3"
  }
 },
 "nbformat": 4,
 "nbformat_minor": 2
}
